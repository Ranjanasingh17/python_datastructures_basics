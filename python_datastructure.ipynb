{
  "nbformat": 4,
  "nbformat_minor": 0,
  "metadata": {
    "colab": {
      "provenance": []
    },
    "kernelspec": {
      "name": "python3",
      "display_name": "Python 3"
    },
    "language_info": {
      "name": "python"
    }
  },
  "cells": [
    {
      "cell_type": "markdown",
      "source": [
        "# python Data structure\n"
      ],
      "metadata": {
        "id": "YiYGRZ38RGVl"
      }
    },
    {
      "cell_type": "markdown",
      "source": [
        "# 1.What are data structures, and why are they important?\n",
        "   - A data structure is the way to organise our data in an efficient way.\n",
        "   - with the help of data structure we store our data and modify it easily , choosing the correct data structure can make programmer's work easy.\n",
        "   - It helps us to handle large amount of data in a clean and logical way.\n",
        "\n",
        "# 2.Explain the difference between mutable   and immutable data types with examples?\n",
        "  - In python we have two types of data structures , mutable and immutable data structure:\n",
        "   - Mutable data structure : In this data structure , we can change and modify objects after the creation. we can perform many methods like add ,remove , update , del etc.\n",
        "   It used when data need to be updated or changed frequently.\n",
        "   - Example : List , set , dict.\n",
        "   \n",
        "   - Immutable data structure : In this data structure , we can not change objects after the creation. we can not perform any operations like update , add etc.\n",
        "   It used when data should remain constant for security ,performance and stability\n",
        "   -Example : Tuple, string ,integer, etc..\n",
        "\n",
        "# 3. What are the main differences between lists and tuples in Python?\n",
        " - In python, list and tuple both are data structure which is used to store data in organised way, but they have key differances in behavior , usages and performance.\n",
        "   - List data structure is mutable while tuple is immutable data stucture.\n",
        "   - list represented by the square bracket [] while tuple represented by parentheses ().\n",
        "   - List takes more memory than the tuple.\n",
        "   - list is slower than the tuple.\n",
        "   - List used when data is expected to change while tuple are used when data remain constant for security purpose.\n",
        "   - List have more methods like .appned() , .update() , .insert() , etc. while tuples have few methods like .count() , .index().\n",
        "\n",
        "# 4. Describe how dictionaries store data?\n",
        "   - dictionary stores data in key-value pairs,each key has unique value and immutable,value can be any type of data(int,float,str,etc). we can access values with the help of keys. it is mutable data structure , we can perform many methods like add , update , remove , etc..\n",
        "   - example:\n",
        "    dict = {'name':'shree','age':32,'city':'pune'}\n",
        "    #accessing data:\n",
        "     print(dict['name'])\n",
        "     output is shree.\n",
        "\n",
        "# 5.Why might you use a set instead of a list in Python?\n",
        "   - We might use a set instead of a list in python when:\n",
        "     - We want to remove duplicates automatically.\n",
        "     - For accessing sets operation like intersect,union etc., lsit doesn't contain this methods.\n",
        "     - When we want unordered collection of data.\n",
        "     - More fasters in search.\n",
        "\n",
        "# 6. What is a string in Python, and how is it different from a list?\n",
        "   -  In python , string is a sequence of characters and is immutable while list is a collection of items any type and is mutable.list has methods .append() , .update() , .remove() , etc. but string has  .lower() , .upper() , etc. string used for  text data while list used for any type of data.\n",
        "\n",
        "# 7. How do tuples ensure data integrity in Python?\n",
        " - A tuple is an immutable data structure , which means:\n",
        "  - Once tuple is created , its content cannot be changed.\n",
        "  - this immutable features gives it stability , security and performance.\n",
        "  - Because , the data can not be altered , the tuple ensures that  the value stayed constent through out the program.\n",
        "\n",
        "# 8. What is a hash table, and how does it relate to dictionaries in Python?\n",
        "  - A hash table is a data structure that stores data in the key- value pairs. it uses hash function to convert unique key index where value is stored in the memory.\n",
        "  this makes data accessing , inserting and deleting very fast.\n",
        "  - In python , dict data structure implemented using a hash table internally.\n",
        "  each key in dictionary is  passed through a hash function.\n",
        "\n",
        "# 9. Can lists contain different data types in Python?\n",
        "  - Yes, lists contain elements of  different types of data in python such as:\n",
        "   int ,  float , str, bool , other list , dict , tuple , set even any funtion.\n",
        "\n",
        "# 10. Explain why strings are immutable in Python?\n",
        " - In python , strings are immutable which means once it created, can not changed or modified.\n",
        " - If strings were mutable, changing one string would affect all references to it , leading to bugs and memory issues.  \n",
        " - Immutable strings are useful where data shold not change.\n",
        " - immutability ensures data integrity.\n",
        "\n",
        "# 11.What advantages do dictionaries offer over lists for certain tasks?\n",
        "  - Dictionaries offer several advantages over lists , espacially when we need to  work on key-value pairs and need fast data lookup.\n",
        "  - dict not allows duplicte values.\n",
        "  - lists searches item through the index but dict provides instant  access to values using keys.\n",
        "  - dictionaries are perfect when you need to store related attributes of objects(person's details).\n",
        "  \n",
        "# 12. Describe a scenario where using a tuple would be preferable over a list?\n",
        "  -  A tuple would be preferable over a list in a situation where you want to store data that should not be changed.\n",
        "   - Using tuple ensures that no one change or modify your data, because it is immutable while you used list someone accidentally modify or change its content.\n",
        "   - Tuple is faster than List for accessing data.\n",
        "\n",
        "# 13. How do sets handle duplicate values in Python?\n",
        "  - In python , set stored unordered and unique collection of data. it removes duplicates automatically.\n",
        "  - Not stored duplicates , each element has its only one copy.\n",
        "  - sets used hashing for storing data.\n",
        "\n",
        "# 14. How does the “in” keyword work differently for lists and dictionaries?\n",
        "  - \"in\" keyword is used to check membership in python but it behaves differently for lists and dictionaries.\n",
        "  In list, \"in\" keyword used for checking presence of value while in dictionaries used for checking keys, not for the values.\n",
        "  - checking for values in dictionary we need to use .value() method.\n",
        "\n",
        "# 15.  Can you modify the elements of a tuple? Explain why or why not?\n",
        "  - No , you can not modify the elements of a tuple because it is immutable data strucutre that means no one can change or modify tuple content after its creation.\n",
        "  - Tuple ensures us to data integrity.\n",
        "\n",
        "# 16. What is a nested dictionary, and give an example of its use case?\n",
        "  - A nested dictionary is a dictionary inside another dictionary. in python , it allows us to store complex and structured data using multi layers of  key-value pairs.\n",
        "  - It is useful for represented structured data , such as student records , employee details etc..\n",
        "\n",
        "# 17. Describe the time complexity of accessing elements in a dictionary?\n",
        "  - In python , accessing an element in a dictionary using a key has an average time complexity of o(1).\n",
        "  This means that the value can be retrieved in constant time, regardless of how many items are in the dictionary.\n",
        "  - python dictionary , use a hash table internally when key is accessed:\n",
        "   - A hash funtion is applied to the key.\n",
        "   - The hash value quickly find the  location of the value in the memory.\n",
        "\n",
        "# 18. In what situations are lists preferred over dictionaries?\n",
        "  - Lists are preferred over dictionaries in situation where:\n",
        "   - you want to access element by its index not by key.\n",
        "   - we need to store elements in the sequence.\n",
        "   - Lists are ideal for storing elements that do not need to names or labels.\n",
        "   - list allows duplicates while dictionary keys must be unique.\n",
        "\n",
        "# 19. Why are dictionaries considered unordered, and how does that affect data retrieval?\n",
        "  - In python , dictionaries considered as unordered collection of data that means we can not access items by its positions(index) but by keys but it does not affect on data retrieval , it's constant o(1).\n",
        "\n",
        "# 20.Explain the difference between a list and a dictionary in terms of data retrieval?\n",
        "  - The difference between a list and a dictionary in terms of data retrieval:\n",
        "   - list stores data in ordered stuctures while dictionary stores data in key-value pairs.\n",
        "   - We can access list data by its position(index) starting from numerical value [0] , while dictionary access or retrieve its items by its unique key.\n",
        "   - Example(list) : list[0] by indexing\n",
        "   - Example(dict) : dict[\"key\"] by unique key\n",
        "\n"
      ],
      "metadata": {
        "id": "FzEM5vtpSOv_"
      }
    },
    {
      "cell_type": "markdown",
      "source": [
        "# Coding questions\n"
      ],
      "metadata": {
        "id": "g2KJxnISeP9b"
      }
    },
    {
      "cell_type": "markdown",
      "source": [
        "# 1. Write a code to create a string with your name and print it."
      ],
      "metadata": {
        "id": "ttgi_ZuR9WH5"
      }
    },
    {
      "cell_type": "code",
      "execution_count": 2,
      "metadata": {
        "id": "9zItC7iMP5HV",
        "colab": {
          "base_uri": "https://localhost:8080/"
        },
        "outputId": "28226871-7436-4f3c-e8a0-3e447ff9c2e7"
      },
      "outputs": [
        {
          "output_type": "stream",
          "name": "stdout",
          "text": [
            "my name is  Ranjana\n"
          ]
        }
      ],
      "source": [
        "name = \"Ranjana\"\n",
        "print(\"my name is\",name)"
      ]
    },
    {
      "cell_type": "markdown",
      "source": [
        "# 2. Write a code to find the length of the string \"Hello World\"."
      ],
      "metadata": {
        "id": "UwCQgrdv-OYQ"
      }
    },
    {
      "cell_type": "code",
      "source": [
        "msg = \"Hello World\"\n",
        "print(len(msg))"
      ],
      "metadata": {
        "id": "EHdkJNpWUZRI",
        "colab": {
          "base_uri": "https://localhost:8080/"
        },
        "outputId": "812a805c-1199-4abf-ef21-0b8a1bcd09c4"
      },
      "execution_count": 3,
      "outputs": [
        {
          "output_type": "stream",
          "name": "stdout",
          "text": [
            "11\n"
          ]
        }
      ]
    },
    {
      "cell_type": "markdown",
      "source": [
        "# 3.Write a code to slice the first 3 characters from the string \"Python Programming\"."
      ],
      "metadata": {
        "id": "5xQ9wan6_T3Z"
      }
    },
    {
      "cell_type": "code",
      "source": [
        "A = \"Python Programming\"\n",
        "print(A[0:3])\n"
      ],
      "metadata": {
        "colab": {
          "base_uri": "https://localhost:8080/"
        },
        "id": "uQiknCQl-c9p",
        "outputId": "d5422bc5-0414-4170-a139-7336f9920334"
      },
      "execution_count": 4,
      "outputs": [
        {
          "output_type": "stream",
          "name": "stdout",
          "text": [
            "Pyt\n"
          ]
        }
      ]
    },
    {
      "cell_type": "markdown",
      "source": [
        "# 4.Write a code to convert the string \"hello\" to uppercase."
      ],
      "metadata": {
        "id": "jMBoq955_qeN"
      }
    },
    {
      "cell_type": "code",
      "source": [
        "B = \"hello\"\n",
        "print(B.upper())"
      ],
      "metadata": {
        "colab": {
          "base_uri": "https://localhost:8080/"
        },
        "id": "l39Hz5_n_oyK",
        "outputId": "06336261-a5d5-4597-8baf-b500cf65d02f"
      },
      "execution_count": 5,
      "outputs": [
        {
          "output_type": "stream",
          "name": "stdout",
          "text": [
            "HELLO\n"
          ]
        }
      ]
    },
    {
      "cell_type": "markdown",
      "source": [
        "# 5. Write a code to replace the word \"apple\" with \"orange\" in the string \"I like apple\""
      ],
      "metadata": {
        "id": "ua24wKzn_47-"
      }
    },
    {
      "cell_type": "code",
      "source": [
        "message = (\"I like apple\")\n",
        "new_message = message.replace(\"apple\",\"orange\")\n",
        "print(new_message)"
      ],
      "metadata": {
        "colab": {
          "base_uri": "https://localhost:8080/"
        },
        "id": "AQpPvf3Z_3zM",
        "outputId": "d9e3cd52-029d-4805-b32b-3b5000a915a9"
      },
      "execution_count": 9,
      "outputs": [
        {
          "output_type": "stream",
          "name": "stdout",
          "text": [
            "I like orange\n"
          ]
        }
      ]
    },
    {
      "cell_type": "markdown",
      "source": [
        "# 6.Write a code to create a list with numbers 1 to 5 and print it."
      ],
      "metadata": {
        "id": "DiKsgg-rBCGf"
      }
    },
    {
      "cell_type": "code",
      "source": [
        "numbers = [1,2,3,4,5]\n",
        "print(numbers)"
      ],
      "metadata": {
        "colab": {
          "base_uri": "https://localhost:8080/"
        },
        "id": "3Bt2HAvMAeUS",
        "outputId": "919f6a01-6aaa-433a-94f6-6e3c92232df7"
      },
      "execution_count": 11,
      "outputs": [
        {
          "output_type": "stream",
          "name": "stdout",
          "text": [
            "[1, 2, 3, 4, 5]\n"
          ]
        }
      ]
    },
    {
      "cell_type": "markdown",
      "source": [
        "# 7. Write a code to append the number 10 to the list [1, 2, 3, 4]."
      ],
      "metadata": {
        "id": "NB0pg2-6BYDd"
      }
    },
    {
      "cell_type": "code",
      "source": [
        "numbers = [1,2,3,4]\n",
        "numbers.append(10)\n",
        "print(numbers)"
      ],
      "metadata": {
        "colab": {
          "base_uri": "https://localhost:8080/"
        },
        "id": "ZCto_w-CBNEO",
        "outputId": "561cc5a7-47b4-4885-8d54-891d9b1529b1"
      },
      "execution_count": 12,
      "outputs": [
        {
          "output_type": "stream",
          "name": "stdout",
          "text": [
            "[1, 2, 3, 4, 10]\n"
          ]
        }
      ]
    },
    {
      "cell_type": "markdown",
      "source": [
        "# 8. Write a code to remove the number 3 from the list [1, 2, 3, 4, 5]."
      ],
      "metadata": {
        "id": "W8bL86NoBkMC"
      }
    },
    {
      "cell_type": "code",
      "source": [
        "numbers = [1,2,3,4,5]\n",
        "numbers.remove(3)\n",
        "print(numbers)"
      ],
      "metadata": {
        "colab": {
          "base_uri": "https://localhost:8080/"
        },
        "id": "JolwADEuBiXi",
        "outputId": "a2f12a1a-2a2c-4113-bd7b-a94066068fca"
      },
      "execution_count": 13,
      "outputs": [
        {
          "output_type": "stream",
          "name": "stdout",
          "text": [
            "[1, 2, 4, 5]\n"
          ]
        }
      ]
    },
    {
      "cell_type": "markdown",
      "source": [
        "# 9. Write a code to access the second element in the list ['a', 'b', 'c', 'd']."
      ],
      "metadata": {
        "id": "qZWgNUS3B4cc"
      }
    },
    {
      "cell_type": "code",
      "source": [
        "list = ['a','b','c','d']\n",
        "print(list[1])"
      ],
      "metadata": {
        "colab": {
          "base_uri": "https://localhost:8080/"
        },
        "id": "Ygt6VcuqB22M",
        "outputId": "be93af7f-81f1-4224-a223-1730864ac88b"
      },
      "execution_count": 14,
      "outputs": [
        {
          "output_type": "stream",
          "name": "stdout",
          "text": [
            "b\n"
          ]
        }
      ]
    },
    {
      "cell_type": "markdown",
      "source": [
        "# 10.  Write a code to reverse the list [10, 20, 30, 40, 50]"
      ],
      "metadata": {
        "id": "0mzoBxpZCH-n"
      }
    },
    {
      "cell_type": "code",
      "source": [
        "# using reverse() method , we can also reverse by slicing\n",
        "list = [10,20,30,40,50]\n",
        "list.reverse()\n",
        "print(list)"
      ],
      "metadata": {
        "colab": {
          "base_uri": "https://localhost:8080/"
        },
        "id": "dLn0EgOWCGz5",
        "outputId": "8f4fcbd0-0d65-493d-aa75-a9182b2fb2e0"
      },
      "execution_count": 15,
      "outputs": [
        {
          "output_type": "stream",
          "name": "stdout",
          "text": [
            "[50, 40, 30, 20, 10]\n"
          ]
        }
      ]
    },
    {
      "cell_type": "markdown",
      "source": [
        "# 11. Write a code to create a tuple with the elements 100, 200, 300 and print it."
      ],
      "metadata": {
        "id": "MtMA4MYvCnjk"
      }
    },
    {
      "cell_type": "code",
      "source": [
        "tuple = (100,200,300)\n",
        "print(tuple)"
      ],
      "metadata": {
        "colab": {
          "base_uri": "https://localhost:8080/"
        },
        "id": "mumZxM5uCVpj",
        "outputId": "6ca9cd8d-fe57-4915-b910-03b9fb30ae1f"
      },
      "execution_count": 16,
      "outputs": [
        {
          "output_type": "stream",
          "name": "stdout",
          "text": [
            "(100, 200, 300)\n"
          ]
        }
      ]
    },
    {
      "cell_type": "markdown",
      "source": [
        "# 12.  Write a code to access the second-to-last element of the tuple ('red', 'green', 'blue', 'yellow')."
      ],
      "metadata": {
        "id": "ZSTZ4xWMC0Sm"
      }
    },
    {
      "cell_type": "code",
      "source": [
        "colors = ('red', 'green', 'blue', 'yellow')\n",
        "print(colors[-2])"
      ],
      "metadata": {
        "colab": {
          "base_uri": "https://localhost:8080/"
        },
        "id": "1OI6bHRhCy64",
        "outputId": "fe2b7ebf-af3a-498e-9e9c-608d6c721547"
      },
      "execution_count": 17,
      "outputs": [
        {
          "output_type": "stream",
          "name": "stdout",
          "text": [
            "blue\n"
          ]
        }
      ]
    },
    {
      "cell_type": "markdown",
      "source": [
        "# 13. Write a code to find the minimum number in the tuple (10, 20, 5, 15)."
      ],
      "metadata": {
        "id": "wZLToUfCDFdo"
      }
    },
    {
      "cell_type": "code",
      "source": [
        "tuple = (10, 20, 5, 15)\n",
        "print(min(tuple))"
      ],
      "metadata": {
        "colab": {
          "base_uri": "https://localhost:8080/"
        },
        "id": "Ntv4_HrKDDd8",
        "outputId": "a05de3e9-2b2a-4482-8a4e-ae5cff5c5f3d"
      },
      "execution_count": 18,
      "outputs": [
        {
          "output_type": "stream",
          "name": "stdout",
          "text": [
            "5\n"
          ]
        }
      ]
    },
    {
      "cell_type": "markdown",
      "source": [
        "# 14. Write a code to find the index of the element \"cat\" in the tuple ('dog', 'cat', 'rabbit')."
      ],
      "metadata": {
        "id": "189uRpO4DTtP"
      }
    },
    {
      "cell_type": "code",
      "source": [
        "animals = ('dog','cat','rabbit')\n",
        "new_ani = animals.index('cat')\n",
        "print(new_ani)"
      ],
      "metadata": {
        "colab": {
          "base_uri": "https://localhost:8080/"
        },
        "id": "LlM1h9vCDaj2",
        "outputId": "f36c41f4-26de-4004-f5af-520094b0e238"
      },
      "execution_count": 20,
      "outputs": [
        {
          "output_type": "stream",
          "name": "stdout",
          "text": [
            "1\n"
          ]
        }
      ]
    },
    {
      "cell_type": "markdown",
      "source": [
        "# 15. Write a code to create a tuple containing three different fruits and check if \"kiwi\" is in it."
      ],
      "metadata": {
        "id": "Teq0aAOHEDtK"
      }
    },
    {
      "cell_type": "code",
      "source": [
        "fruits = ('apple','orange','kiwi')\n",
        "if 'kiwi' in fruits:\n",
        "    print(\"kiwi is in the list of fruits\")\n",
        "else:\n",
        "    print(\"kiwi is not in the list of fruits\")"
      ],
      "metadata": {
        "colab": {
          "base_uri": "https://localhost:8080/"
        },
        "id": "qg_1P72SDryg",
        "outputId": "fa71cc9c-7369-40a9-f299-7724dd05397b"
      },
      "execution_count": 21,
      "outputs": [
        {
          "output_type": "stream",
          "name": "stdout",
          "text": [
            "kiwi is in the list of fruits\n"
          ]
        }
      ]
    },
    {
      "cell_type": "markdown",
      "source": [
        "# 16.  Write a code to create a set with the elements 'a', 'b', 'c' and print it."
      ],
      "metadata": {
        "id": "b16H9kfjE1-3"
      }
    },
    {
      "cell_type": "code",
      "source": [
        "set1 = { 'a', 'b', 'c'} #unordered collection of items\n",
        "print(set1)"
      ],
      "metadata": {
        "colab": {
          "base_uri": "https://localhost:8080/"
        },
        "id": "mYKr4rIzEh_d",
        "outputId": "c9384963-7ea9-4dda-edc3-724cedb9880f"
      },
      "execution_count": 22,
      "outputs": [
        {
          "output_type": "stream",
          "name": "stdout",
          "text": [
            "{'c', 'b', 'a'}\n"
          ]
        }
      ]
    },
    {
      "cell_type": "markdown",
      "source": [
        "# 17. Write a code to clear all elements from the set {1, 2, 3, 4, 5}."
      ],
      "metadata": {
        "id": "9tifRZmgFIdS"
      }
    },
    {
      "cell_type": "code",
      "source": [
        "set1 = {1, 2, 3, 4, 5}\n",
        "set1.clear()\n",
        "print(set1)"
      ],
      "metadata": {
        "colab": {
          "base_uri": "https://localhost:8080/"
        },
        "id": "NLmpt8MVFCjC",
        "outputId": "ed0b6c65-5cca-4a30-d9c3-106e1eda5304"
      },
      "execution_count": 23,
      "outputs": [
        {
          "output_type": "stream",
          "name": "stdout",
          "text": [
            "set()\n"
          ]
        }
      ]
    },
    {
      "cell_type": "markdown",
      "source": [
        "# 18. Write a code to remove the element 4 from the set {1, 2, 3, 4}.\n"
      ],
      "metadata": {
        "id": "_e9Uq_VTFgJe"
      }
    },
    {
      "cell_type": "code",
      "source": [
        "my_set =  {1, 2, 3, 4}\n",
        "my_set.remove(4)\n",
        "print(my_set)"
      ],
      "metadata": {
        "colab": {
          "base_uri": "https://localhost:8080/"
        },
        "id": "ApiveuXaFjPv",
        "outputId": "abc8807e-a763-4933-b189-0e725badd7a3"
      },
      "execution_count": 24,
      "outputs": [
        {
          "output_type": "stream",
          "name": "stdout",
          "text": [
            "{1, 2, 3}\n"
          ]
        }
      ]
    },
    {
      "cell_type": "markdown",
      "source": [
        "# 19. Write a code to find the union of two sets {1, 2, 3} and {3, 4, 5}."
      ],
      "metadata": {
        "id": "dcVFlDTeFvGF"
      }
    },
    {
      "cell_type": "code",
      "source": [
        "set1 = {1,2,3}\n",
        "set2 = {3,4,5}\n",
        "print(set1.union(set2)) #gives unique values from both sets>>remove duplicates"
      ],
      "metadata": {
        "colab": {
          "base_uri": "https://localhost:8080/"
        },
        "id": "_emiQch6Fa2e",
        "outputId": "7466345e-e12c-41cf-c13a-2952d1d3998d"
      },
      "execution_count": 25,
      "outputs": [
        {
          "output_type": "stream",
          "name": "stdout",
          "text": [
            "{1, 2, 3, 4, 5}\n"
          ]
        }
      ]
    },
    {
      "cell_type": "markdown",
      "source": [
        "# 20.  Write a code to find the intersection of two sets {1, 2, 3} and {2, 3, 4}."
      ],
      "metadata": {
        "id": "dCBjtRuCGFMb"
      }
    },
    {
      "cell_type": "code",
      "source": [
        "set1 = {1,2,3}\n",
        "set2 = {2,3,4}\n",
        "intersect_set = set1.intersection(set2)\n",
        "print(intersect_set) # ouput >> common elements from both sets"
      ],
      "metadata": {
        "colab": {
          "base_uri": "https://localhost:8080/"
        },
        "id": "wG6PZ_20F-4_",
        "outputId": "9b26925f-4a4e-4115-b9f3-a1f2c0c70e61"
      },
      "execution_count": 27,
      "outputs": [
        {
          "output_type": "stream",
          "name": "stdout",
          "text": [
            "{2, 3}\n"
          ]
        }
      ]
    },
    {
      "cell_type": "markdown",
      "source": [
        "# 21.  Write a code to create a dictionary with the keys \"name\", \"age\", and \"city\", and print it."
      ],
      "metadata": {
        "id": "htlD1_EEHJXb"
      }
    },
    {
      "cell_type": "code",
      "source": [
        "student = { \"name\":\"Reena\", \"age\":22, \"city\":\"jaipur\"}\n",
        "print(student)"
      ],
      "metadata": {
        "colab": {
          "base_uri": "https://localhost:8080/"
        },
        "id": "PLYBKHdBGZoD",
        "outputId": "7fd76578-7964-4c7d-da5a-5ce3367063a1"
      },
      "execution_count": 28,
      "outputs": [
        {
          "output_type": "stream",
          "name": "stdout",
          "text": [
            "{'name': 'Reena', 'age': 22, 'city': 'jaipur'}\n"
          ]
        }
      ]
    },
    {
      "cell_type": "markdown",
      "source": [
        "# 22.  Write a code to add a new key-value pair \"country\": \"USA\" to the dictionary {'name': 'John', 'age': 25}."
      ],
      "metadata": {
        "id": "cVdDVq75HfSm"
      }
    },
    {
      "cell_type": "code",
      "source": [
        "employee =  {'name': 'John', 'age': 25}\n",
        "employee[\"country\"] = \"USA\"\n",
        "print(employee)"
      ],
      "metadata": {
        "colab": {
          "base_uri": "https://localhost:8080/"
        },
        "id": "RkYrrH7oHdKn",
        "outputId": "58d54869-b8b3-46be-e496-1561184032fb"
      },
      "execution_count": 30,
      "outputs": [
        {
          "output_type": "stream",
          "name": "stdout",
          "text": [
            "{'name': 'John', 'age': 25, 'country': 'USA'}\n"
          ]
        }
      ]
    },
    {
      "cell_type": "markdown",
      "source": [
        "# 23.  Write a code to access the value associated with the key \"name\" in the dictionary {'name': 'Alice', 'age': 30}."
      ],
      "metadata": {
        "id": "E0jGWcfVIGNK"
      }
    },
    {
      "cell_type": "code",
      "source": [
        "std = {'name': 'Alice', 'age': 30}\n",
        "print(std[\"name\"])"
      ],
      "metadata": {
        "colab": {
          "base_uri": "https://localhost:8080/"
        },
        "id": "zw8uoO7UH57x",
        "outputId": "f98daab2-4512-4423-bc22-ffe043e76875"
      },
      "execution_count": 35,
      "outputs": [
        {
          "output_type": "stream",
          "name": "stdout",
          "text": [
            "Alice\n"
          ]
        }
      ]
    },
    {
      "cell_type": "markdown",
      "source": [
        "# 24.  Write a code to remove the key \"age\" from the dictionary {'name': 'Bob', 'age': 22, 'city': 'New York'}."
      ],
      "metadata": {
        "id": "eaemGw0IKx3C"
      }
    },
    {
      "cell_type": "code",
      "source": [
        "emp_information = {'name': 'Bob', 'age': 22, 'city': 'New York'}\n",
        "emp_information.pop(\"age\")\n",
        "print(emp_information)"
      ],
      "metadata": {
        "colab": {
          "base_uri": "https://localhost:8080/"
        },
        "id": "MG9sFh-TIjrF",
        "outputId": "6b4ec742-8d40-441a-e4e6-166174860715"
      },
      "execution_count": 36,
      "outputs": [
        {
          "output_type": "stream",
          "name": "stdout",
          "text": [
            "{'name': 'Bob', 'city': 'New York'}\n"
          ]
        }
      ]
    },
    {
      "cell_type": "markdown",
      "source": [
        "# 25. Write a code to check if the key \"city\" exists in the dictionary {'name': 'Alice', 'city': 'Paris'}."
      ],
      "metadata": {
        "id": "4SlmTmDnLMlZ"
      }
    },
    {
      "cell_type": "code",
      "source": [
        "dict1 = {'name': 'Alice', 'city': 'Paris'}\n",
        "if \"city\" in dict1:\n",
        "  print(\"city key availabel in dict1\")\n",
        "else:\n",
        "  print(\"city key not available in dict1\")"
      ],
      "metadata": {
        "colab": {
          "base_uri": "https://localhost:8080/"
        },
        "id": "kzfgCgMcLK7f",
        "outputId": "06761f7b-a823-4ed9-8d1b-e7a2e532c356"
      },
      "execution_count": 38,
      "outputs": [
        {
          "output_type": "stream",
          "name": "stdout",
          "text": [
            "city key availabel in dict1\n"
          ]
        }
      ]
    },
    {
      "cell_type": "markdown",
      "source": [
        "# 26.Write a code to create a list, a tuple, and a dictionary, and print them all."
      ],
      "metadata": {
        "id": "LPsbjZfyMFXD"
      }
    },
    {
      "cell_type": "code",
      "source": [
        "list = [1,2,3]\n",
        "tuple = (1,2,3,4)\n",
        "dict = {\"name\":\"one\",\"name1\":\"two\",\"name2\":\"three\"}\n",
        "print(list)\n",
        "print(tuple)\n",
        "print(dict)"
      ],
      "metadata": {
        "colab": {
          "base_uri": "https://localhost:8080/"
        },
        "id": "IFxSiWtJLyqp",
        "outputId": "4b828c06-89f8-41a3-fedc-338bbd990fe4"
      },
      "execution_count": 40,
      "outputs": [
        {
          "output_type": "stream",
          "name": "stdout",
          "text": [
            "[1, 2, 3]\n",
            "(1, 2, 3, 4)\n",
            "{'name': 'one', 'name1': 'two', 'name2': 'three'}\n"
          ]
        }
      ]
    },
    {
      "cell_type": "markdown",
      "source": [
        "# 27. Write a code to create a list of 5 random numbers between 1 and 100, sort it in ascending order, and print the result."
      ],
      "metadata": {
        "id": "7KnqFoLwMmDP"
      }
    },
    {
      "cell_type": "code",
      "source": [
        "numbers = [65,25,88,32,28] # took random numbers from 1 to 100\n",
        "numbers.sort()\n",
        "print(numbers)"
      ],
      "metadata": {
        "colab": {
          "base_uri": "https://localhost:8080/"
        },
        "id": "oELwHXWjMab9",
        "outputId": "ecbdf6aa-c852-42a6-a68d-05116a32c0fd"
      },
      "execution_count": 42,
      "outputs": [
        {
          "output_type": "stream",
          "name": "stdout",
          "text": [
            "[25, 28, 32, 65, 88]\n"
          ]
        }
      ]
    },
    {
      "cell_type": "markdown",
      "source": [
        "# 28. Write a code to create a list with strings and print the element at the third index."
      ],
      "metadata": {
        "id": "eJOaV38hN9qK"
      }
    },
    {
      "cell_type": "code",
      "source": [
        "my_list = [\"shree\",\"shyama\",\"meera\",\"rupa\"]\n",
        "print(my_list[2])"
      ],
      "metadata": {
        "colab": {
          "base_uri": "https://localhost:8080/"
        },
        "id": "eosjja_HM9p2",
        "outputId": "71167eb8-5d2c-4ece-9ac2-115b31091654"
      },
      "execution_count": 43,
      "outputs": [
        {
          "output_type": "stream",
          "name": "stdout",
          "text": [
            "meera\n"
          ]
        }
      ]
    },
    {
      "cell_type": "markdown",
      "source": [
        "# 29. Write a code to combine two dictionaries into one and print the result."
      ],
      "metadata": {
        "id": "T6HDiAW_OYFG"
      }
    },
    {
      "cell_type": "code",
      "source": [
        "dict1 = {'name': 'Ranjana', 'age': 25}\n",
        "dict2 = {'course': 'AI', 'city': 'Vadodara'}\n",
        "dict1.update(dict2)\n",
        "print(dict1)\n"
      ],
      "metadata": {
        "colab": {
          "base_uri": "https://localhost:8080/"
        },
        "id": "OXIvK6y-OP_O",
        "outputId": "20f20759-f931-4a13-8954-ee938b002689"
      },
      "execution_count": 44,
      "outputs": [
        {
          "output_type": "stream",
          "name": "stdout",
          "text": [
            "{'name': 'Ranjana', 'age': 25, 'course': 'AI', 'city': 'Vadodara'}\n"
          ]
        }
      ]
    },
    {
      "cell_type": "markdown",
      "source": [
        "# 30. Write a code to convert a list of strings into a set."
      ],
      "metadata": {
        "id": "9M67eHy_OzJY"
      }
    },
    {
      "cell_type": "code",
      "source": [
        "names = [\"shree\",\"shyama\",\"meera\",\"rupa\"]\n",
        "print(set(names))"
      ],
      "metadata": {
        "colab": {
          "base_uri": "https://localhost:8080/"
        },
        "id": "jrQe14MLOw4g",
        "outputId": "cfb23c93-5a6b-4a44-f9f7-63de5050f34d"
      },
      "execution_count": 46,
      "outputs": [
        {
          "output_type": "stream",
          "name": "stdout",
          "text": [
            "{'shree', 'shyama', 'meera', 'rupa'}\n"
          ]
        }
      ]
    },
    {
      "cell_type": "code",
      "source": [],
      "metadata": {
        "id": "W5myy16BPDZd"
      },
      "execution_count": null,
      "outputs": []
    }
  ]
}